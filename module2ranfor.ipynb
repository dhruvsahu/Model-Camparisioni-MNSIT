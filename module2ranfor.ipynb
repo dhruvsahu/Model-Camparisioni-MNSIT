{
 "cells": [
  {
   "cell_type": "code",
   "execution_count": 1,
   "metadata": {},
   "outputs": [],
   "source": [
    "import numpy as np\n",
    "import pandas as pd\n",
    "import matplotlib.pyplot as plt\n",
    "\n",
    "from sklearn.ensemble import RandomForestClassifier\n",
    "from sklearn.metrics import classification_report, confusion_matrix\n",
    "from sklearn.model_selection import train_test_split"
   ]
  },
  {
   "cell_type": "code",
   "execution_count": 2,
   "metadata": {},
   "outputs": [],
   "source": [
    "df = pd.read_csv('mnist.csv')\n",
    "\n",
    "df_feat = df.drop('label',axis=1)\n",
    "\n",
    "label_y = df['label']"
   ]
  },
  {
   "cell_type": "code",
   "execution_count": 3,
   "metadata": {},
   "outputs": [
    {
     "name": "stdout",
     "output_type": "stream",
     "text": [
      "Train Size:  0.9\n",
      "n_estimators =  100\n",
      "--------------------- 100 ---------------------\n",
      "Accuracy:  0.964047619047619\n",
      "-----------------------------------------------\n",
      "n_estimators =  200\n",
      "--------------------- 200 ---------------------\n",
      "Accuracy:  0.9666666666666667\n",
      "-----------------------------------------------\n",
      "n_estimators =  300\n",
      "--------------------- 300 ---------------------\n",
      "Accuracy:  0.9671428571428572\n",
      "-----------------------------------------------\n",
      "n_estimators =  400\n",
      "--------------------- 400 ---------------------\n",
      "Accuracy:  0.9673809523809523\n",
      "-----------------------------------------------\n",
      "n_estimators =  500\n",
      "--------------------- 500 ---------------------\n",
      "Accuracy:  0.9666666666666667\n",
      "-----------------------------------------------\n",
      "Best Accuracy:  0.967  at n_estimators =  400\n",
      "Train Size:  0.8\n",
      "n_estimators =  100\n",
      "--------------------- 100 ---------------------\n",
      "Accuracy:  0.9645238095238096\n",
      "-----------------------------------------------\n",
      "n_estimators =  200\n",
      "--------------------- 200 ---------------------\n",
      "Accuracy:  0.9669047619047619\n",
      "-----------------------------------------------\n",
      "n_estimators =  300\n",
      "--------------------- 300 ---------------------\n",
      "Accuracy:  0.9676190476190476\n",
      "-----------------------------------------------\n",
      "n_estimators =  400\n",
      "--------------------- 400 ---------------------\n",
      "Accuracy:  0.9673809523809523\n",
      "-----------------------------------------------\n",
      "n_estimators =  500\n",
      "--------------------- 500 ---------------------\n",
      "Accuracy:  0.9685714285714285\n",
      "-----------------------------------------------\n",
      "Best Accuracy:  0.969  at n_estimators =  500\n",
      "Train Size:  0.7\n",
      "n_estimators =  100\n",
      "--------------------- 100 ---------------------\n",
      "Accuracy:  0.9643650793650793\n",
      "-----------------------------------------------\n",
      "n_estimators =  200\n",
      "--------------------- 200 ---------------------\n",
      "Accuracy:  0.9663492063492064\n",
      "-----------------------------------------------\n",
      "n_estimators =  300\n",
      "--------------------- 300 ---------------------\n",
      "Accuracy:  0.9661904761904762\n",
      "-----------------------------------------------\n",
      "n_estimators =  400\n",
      "--------------------- 400 ---------------------\n",
      "Accuracy:  0.9673809523809523\n",
      "-----------------------------------------------\n",
      "n_estimators =  500\n",
      "--------------------- 500 ---------------------\n",
      "Accuracy:  0.9673809523809523\n",
      "-----------------------------------------------\n",
      "Best Accuracy:  0.967  at n_estimators =  400\n",
      "Best Accuracy:  0.969  at Train Size =  0.8\n"
     ]
    }
   ],
   "source": [
    "max_acc = np.array([[]])\n",
    "\n",
    "for j in range(1,4):\n",
    "    j=j/10\n",
    "    print(\"Train Size: \",1-j)\n",
    "    X_train,X_test,Y_train,Y_test = train_test_split(df_feat,label_y,test_size=j,random_state=101)\n",
    "\n",
    "    acc = np.array([])\n",
    "\n",
    "    for i in range(1,6):\n",
    "        i=i*100\n",
    "        rfc = RandomForestClassifier(n_estimators=i)\n",
    "        rfc.fit(X_train,Y_train)\n",
    "        pred = rfc.predict(X_test)\n",
    "        print('n_estimators = ',i)\n",
    "        print(\"---------------------\",i,\"---------------------\")\n",
    "\n",
    "        report = classification_report(Y_test,pred,output_dict=True)\n",
    "        print(\"Accuracy: \",report['accuracy'])\n",
    "        acc = np.append(acc,report['accuracy'])\n",
    "\n",
    "        print(\"-----------------------------------------------\")\n",
    "\n",
    "    print(\"Best Accuracy: \",acc.max().round(3),\" at n_estimators = \",(acc.argmax()+1)*100)\n",
    "    max_acc=np.append(max_acc,acc.max().round(3))\n",
    "\n",
    "print(\"Best Accuracy: \",max_acc.max(),\" at Train Size = \",1-(max_acc.argmax()+1)/10)\n"
   ]
  },
  {
   "attachments": {},
   "cell_type": "markdown",
   "metadata": {},
   "source": [
    "## Accuracy\n",
    "\n",
    "We have got the highest accuracy of 0.969 for training split of 80% and n_estimators of 500. This is one of the highest achieved accuracy amoung all the three models and knn has a similar score compared to Random Forest model. But Decision tree doesn't match the performance of these to classifiers."
   ]
  }
 ],
 "metadata": {
  "kernelspec": {
   "display_name": "base",
   "language": "python",
   "name": "python3"
  },
  "language_info": {
   "codemirror_mode": {
    "name": "ipython",
    "version": 3
   },
   "file_extension": ".py",
   "mimetype": "text/x-python",
   "name": "python",
   "nbconvert_exporter": "python",
   "pygments_lexer": "ipython3",
   "version": "3.9.12"
  },
  "orig_nbformat": 4,
  "vscode": {
   "interpreter": {
    "hash": "93aa56aaf092cc48edb18a400e2b8d907b19181ab850d8edad30d48dcd99f0f9"
   }
  }
 },
 "nbformat": 4,
 "nbformat_minor": 2
}
