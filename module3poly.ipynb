{
 "cells": [
  {
   "attachments": {},
   "cell_type": "markdown",
   "metadata": {},
   "source": [
    "# SVM with Kernel: Polynomial"
   ]
  },
  {
   "cell_type": "code",
   "execution_count": 2,
   "metadata": {},
   "outputs": [],
   "source": [
    "# import the necessary packages\n",
    "import time\n",
    "import numpy as np\n",
    "import pandas as pd\n",
    "import matplotlib.pyplot as plt\n",
    "from sklearn.model_selection import train_test_split\n",
    "from sklearn.svm import SVC\n",
    "from sklearn.metrics import classification_report,confusion_matrix"
   ]
  },
  {
   "cell_type": "code",
   "execution_count": 3,
   "metadata": {},
   "outputs": [],
   "source": [
    "df = pd.read_csv('mnist.csv')       # read the csv file\n",
    "\n",
    "df_feat = df.drop('label',axis=1)   # drop the label column\n",
    "\n",
    "label_y = df['label']               # label column"
   ]
  },
  {
   "cell_type": "code",
   "execution_count": 5,
   "metadata": {},
   "outputs": [
    {
     "name": "stdout",
     "output_type": "stream",
     "text": [
      "Time taken to train the model: 1.0 min 15.770126581192017 sec\n",
      "Accuracy of the model:  0.968047619047619\n"
     ]
    }
   ],
   "source": [
    "x_train, x_test, y_train, y_test = train_test_split(df_feat,label_y,test_size=0.5)\n",
    "\n",
    "model = SVC(kernel='poly',degree=2) # kernel='poly',degree=2\n",
    "\n",
    "start = time.time()\n",
    "model.fit(x_train,y_train)\n",
    "end = time.time()\n",
    "print(\"Time taken to train the model: %s min %s sec\"% ((end-start)//60,(end-start)%60))\n",
    "predictions = model.predict(x_test)\n",
    "report = classification_report(y_test,predictions,output_dict=True)\n",
    "\n",
    "print(\"Accuracy of the model: \",report['accuracy'])"
   ]
  },
  {
   "cell_type": "code",
   "execution_count": 6,
   "metadata": {},
   "outputs": [
    {
     "name": "stdout",
     "output_type": "stream",
     "text": [
      "Time taken to train the model: 1.0 min 54.2788360118866 sec\n",
      "Accuracy of the model:  0.9526190476190476\n"
     ]
    }
   ],
   "source": [
    "model = SVC(kernel='poly',degree=4) # kernel='poly',degree=2\n",
    "\n",
    "start = time.time()\n",
    "model.fit(x_train,y_train)\n",
    "end = time.time()\n",
    "print(\"Time taken to train the model: %s min %s sec\"% ((end-start)//60,(end-start)%60))\n",
    "predictions = model.predict(x_test)\n",
    "report = classification_report(y_test,predictions,output_dict=True)\n",
    "\n",
    "print(\"Accuracy of the model: \",report['accuracy'])"
   ]
  },
  {
   "attachments": {},
   "cell_type": "markdown",
   "metadata": {},
   "source": [
    "---\n",
    "Time taken incase of polynomial kernel with D value equal to 2 is 1 min 15 sec.\n",
    "Accuracy is 0.968\n",
    "\n",
    "Time taken incase of polynomial kernel with D value equal to 4 is 1 min 54 sec.\n",
    "Accuracy is 0.953"
   ]
  },
  {
   "attachments": {},
   "cell_type": "markdown",
   "metadata": {},
   "source": [
    "Incase of D value 2 the amount of time taken is less and the accuracy is more than that of D value 4 according to our observation."
   ]
  }
 ],
 "metadata": {
  "kernelspec": {
   "display_name": "base",
   "language": "python",
   "name": "python3"
  },
  "language_info": {
   "codemirror_mode": {
    "name": "ipython",
    "version": 3
   },
   "file_extension": ".py",
   "mimetype": "text/x-python",
   "name": "python",
   "nbconvert_exporter": "python",
   "pygments_lexer": "ipython3",
   "version": "3.9.12"
  },
  "orig_nbformat": 4
 },
 "nbformat": 4,
 "nbformat_minor": 2
}
