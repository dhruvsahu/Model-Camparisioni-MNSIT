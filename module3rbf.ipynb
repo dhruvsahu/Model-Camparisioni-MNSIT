{
 "cells": [
  {
   "attachments": {},
   "cell_type": "markdown",
   "metadata": {},
   "source": [
    "# SVM with Kernel: RBF"
   ]
  },
  {
   "cell_type": "code",
   "execution_count": 8,
   "metadata": {},
   "outputs": [],
   "source": [
    "# import the necessary packages\n",
    "import time\n",
    "import numpy as np\n",
    "import pandas as pd\n",
    "import matplotlib.pyplot as plt\n",
    "from sklearn.model_selection import train_test_split\n",
    "from sklearn.svm import SVC\n",
    "from sklearn.metrics import classification_report,confusion_matrix\n",
    "from sklearn.metrics import precision_score,f1_score"
   ]
  },
  {
   "cell_type": "code",
   "execution_count": 3,
   "metadata": {},
   "outputs": [],
   "source": [
    "df = pd.read_csv('mnist.csv')       # read the csv file\n",
    "\n",
    "df_feat = df.drop('label',axis=1)   # drop the label column\n",
    "\n",
    "label_y = df['label']               # label column"
   ]
  },
  {
   "cell_type": "code",
   "execution_count": 5,
   "metadata": {},
   "outputs": [
    {
     "name": "stdout",
     "output_type": "stream",
     "text": [
      "Gamma: 1 , C: 0.1\n",
      "Confusion Matrix:  [[   0 2038    0    0    0    0    0    0    0    0]\n",
      " [   0 2345    0    0    0    0    0    0    0    0]\n",
      " [   0 2092    0    0    0    0    0    0    0    0]\n",
      " [   0 2154    0    0    0    0    0    0    0    0]\n",
      " [   0 2052    0    0    0    0    0    0    0    0]\n",
      " [   0 1886    0    0    0    0    0    0    0    0]\n",
      " [   0 2061    0    0    0    0    0    0    0    0]\n",
      " [   0 2188    0    0    0    0    0    0    0    0]\n",
      " [   0 2059    0    0    0    0    0    0    0    0]\n",
      " [   0 2125    0    0    0    0    0    0    0    0]]\n",
      "Accuracy:  0.11166666666666666\n",
      "--- 19.0 mins 43.02353620529175 secs ---\n"
     ]
    },
    {
     "name": "stderr",
     "output_type": "stream",
     "text": [
      "c:\\Users\\Dhruv\\anaconda3\\lib\\site-packages\\sklearn\\metrics\\_classification.py:1318: UndefinedMetricWarning: Precision and F-score are ill-defined and being set to 0.0 in labels with no predicted samples. Use `zero_division` parameter to control this behavior.\n",
      "  _warn_prf(average, modifier, msg_start, len(result))\n",
      "c:\\Users\\Dhruv\\anaconda3\\lib\\site-packages\\sklearn\\metrics\\_classification.py:1318: UndefinedMetricWarning: Precision and F-score are ill-defined and being set to 0.0 in labels with no predicted samples. Use `zero_division` parameter to control this behavior.\n",
      "  _warn_prf(average, modifier, msg_start, len(result))\n",
      "c:\\Users\\Dhruv\\anaconda3\\lib\\site-packages\\sklearn\\metrics\\_classification.py:1318: UndefinedMetricWarning: Precision and F-score are ill-defined and being set to 0.0 in labels with no predicted samples. Use `zero_division` parameter to control this behavior.\n",
      "  _warn_prf(average, modifier, msg_start, len(result))\n"
     ]
    }
   ],
   "source": [
    "x_train, x_test, y_train, y_test = train_test_split(df_feat,label_y,test_size=0.5,random_state=101)\n",
    "\n",
    "start = time.time()\n",
    "model = SVC(kernel='rbf',gamma=1,C=0.1)                         # rbf kernel gamma=1 and C=0.1\n",
    "model.fit(x_train,y_train)\n",
    "pred = model.predict(x_test)\n",
    "print(\"Gamma: 1 , C: 0.1\")\n",
    "report = classification_report(y_test,pred,output_dict=True)    # classification report\n",
    "print(\"Confusion Matrix: \",confusion_matrix(y_test,pred))       # confusion matrix\n",
    "print(\"Accuracy: \",report['accuracy'])\n",
    "end = time.time()\n",
    "print(\"--- %s mins %s secs ---\" % ((end - start) // 60, (end - start) % 60))\n"
   ]
  },
  {
   "cell_type": "code",
   "execution_count": 6,
   "metadata": {},
   "outputs": [
    {
     "name": "stdout",
     "output_type": "stream",
     "text": [
      "Gamma: 0.1 , C: 1\n",
      "Confusion Matrix:  [[   0 2038    0    0    0    0    0    0    0    0]\n",
      " [   0 2345    0    0    0    0    0    0    0    0]\n",
      " [   0 2092    0    0    0    0    0    0    0    0]\n",
      " [   0 2154    0    0    0    0    0    0    0    0]\n",
      " [   0 2052    0    0    0    0    0    0    0    0]\n",
      " [   0 1886    0    0    0    0    0    0    0    0]\n",
      " [   0 2061    0    0    0    0    0    0    0    0]\n",
      " [   0 2188    0    0    0    0    0    0    0    0]\n",
      " [   0 2059    0    0    0    0    0    0    0    0]\n",
      " [   0 2125    0    0    0    0    0    0    0    0]]\n",
      "Accuracy:  0.11166666666666666\n",
      "--- 17.0 mins 30.035959482192993 secs ---\n"
     ]
    },
    {
     "name": "stderr",
     "output_type": "stream",
     "text": [
      "c:\\Users\\Dhruv\\anaconda3\\lib\\site-packages\\sklearn\\metrics\\_classification.py:1318: UndefinedMetricWarning: Precision and F-score are ill-defined and being set to 0.0 in labels with no predicted samples. Use `zero_division` parameter to control this behavior.\n",
      "  _warn_prf(average, modifier, msg_start, len(result))\n",
      "c:\\Users\\Dhruv\\anaconda3\\lib\\site-packages\\sklearn\\metrics\\_classification.py:1318: UndefinedMetricWarning: Precision and F-score are ill-defined and being set to 0.0 in labels with no predicted samples. Use `zero_division` parameter to control this behavior.\n",
      "  _warn_prf(average, modifier, msg_start, len(result))\n",
      "c:\\Users\\Dhruv\\anaconda3\\lib\\site-packages\\sklearn\\metrics\\_classification.py:1318: UndefinedMetricWarning: Precision and F-score are ill-defined and being set to 0.0 in labels with no predicted samples. Use `zero_division` parameter to control this behavior.\n",
      "  _warn_prf(average, modifier, msg_start, len(result))\n"
     ]
    }
   ],
   "source": [
    "start = time.time()\n",
    "model = SVC(kernel='rbf',gamma=0.1,C=1)                         # gamma = 0.1 , C = 1\n",
    "model.fit(x_train,y_train)\n",
    "pred = model.predict(x_test)\n",
    "print(\"Gamma: 0.1 , C: 1\")\n",
    "report = classification_report(y_test,pred,output_dict=True)    # classification report\n",
    "print(\"Confusion Matrix: \",confusion_matrix(y_test,pred))       # confusion matrix\n",
    "print(\"Accuracy: \",report['accuracy'])\n",
    "end = time.time()\n",
    "print(\"--- %s mins %s secs ---\" % ((end - start) // 60, (end - start) % 60))"
   ]
  },
  {
   "attachments": {},
   "cell_type": "markdown",
   "metadata": {},
   "source": [
    "This kernel performs the worst for this dataset with the highest inaccuracy (Accuracy = 0.11) and longest time taken to train around 19 and 17 mins."
   ]
  }
 ],
 "metadata": {
  "kernelspec": {
   "display_name": "base",
   "language": "python",
   "name": "python3"
  },
  "language_info": {
   "codemirror_mode": {
    "name": "ipython",
    "version": 3
   },
   "file_extension": ".py",
   "mimetype": "text/x-python",
   "name": "python",
   "nbconvert_exporter": "python",
   "pygments_lexer": "ipython3",
   "version": "3.9.12"
  },
  "orig_nbformat": 4
 },
 "nbformat": 4,
 "nbformat_minor": 2
}
