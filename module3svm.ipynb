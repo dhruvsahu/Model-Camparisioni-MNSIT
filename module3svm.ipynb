{
 "cells": [
  {
   "attachments": {},
   "cell_type": "markdown",
   "metadata": {},
   "source": [
    "# SVM with Linearly Non Separable Data"
   ]
  },
  {
   "cell_type": "code",
   "execution_count": 3,
   "metadata": {},
   "outputs": [],
   "source": [
    "# import the necessary packages\n",
    "import time\n",
    "import numpy as np\n",
    "import pandas as pd\n",
    "import matplotlib.pyplot as plt\n",
    "from sklearn.model_selection import train_test_split\n",
    "from sklearn.svm import SVC\n",
    "from sklearn.metrics import classification_report,confusion_matrix"
   ]
  },
  {
   "cell_type": "code",
   "execution_count": 4,
   "metadata": {},
   "outputs": [],
   "source": [
    "df = pd.read_csv('mnist.csv')       # read the csv file\n",
    "\n",
    "df_feat = df.drop('label',axis=1)   # drop the label column\n",
    "\n",
    "label_y = df['label']               # label column"
   ]
  },
  {
   "cell_type": "code",
   "execution_count": 6,
   "metadata": {},
   "outputs": [
    {
     "name": "stdout",
     "output_type": "stream",
     "text": [
      "----------------- 0.1 -----------------\n",
      "---2.0 mins 43.12374210357666 secs ---\n",
      "Accuracy:  0.9426666666666667\n",
      "confusion_matrix:  [[2009    0    2    1    2    8   14    1   11    1]\n",
      " [   0 2301   15    4    3    6    2    2   10    2]\n",
      " [  10    5 1909   14   21    4   12   23   31    5]\n",
      " [   3   12   47 1977    2   77    7   17   25   16]\n",
      " [   3    8   12    0 1897    1   17    3    3   56]\n",
      " [  12   11    4   31   11 1801   26    3   12    3]\n",
      " [  21    5    8    0    8   17 2033    0    6    0]\n",
      " [   1   25   21    4   32    4    0 2037    3   68]\n",
      " [   7   21   12   33   14   36   11    7 1908   23]\n",
      " [  14    7   10   36   53    9    2   41   14 1924]]\n",
      "----------------- 1 -----------------\n",
      "---1.0 mins 20.07852053642273 secs ---\n",
      "Accuracy:  0.9712380952380952\n",
      "confusion_matrix:  [[2029    0    2    1    2    0    7    1    6    1]\n",
      " [   0 2314   15    2    3    2    1    2    4    2]\n",
      " [   6    2 1981    4   12    1    3   15    8    2]\n",
      " [   2    3   28 2084    1   31    2    8   13   11]\n",
      " [   3    4    3    0 1951    0    9    3    1   26]\n",
      " [   9    4    2   22    5 1846   16    1    5    4]\n",
      " [  12    0    2    0    3    8 2068    0    5    0]\n",
      " [   2   14   16    3   16    1    0 2121    1   21]\n",
      " [   3   10    7   16    9   12    7    3 2000    5]\n",
      " [   7    2    4   21   35    4    1   24   10 2002]]\n",
      "----------------- 10 -----------------\n",
      "---1.0 mins 6.7650933265686035 secs ---\n",
      "Accuracy:  0.976\n",
      "confusion_matrix:  [[2032    0    2    1    1    0    4    1    6    2]\n",
      " [   0 2320    9    2    2    2    1    4    2    3]\n",
      " [   6    1 1991    5    7    2    2   13    5    2]\n",
      " [   2    1   22 2106    1   20    0    8   10   13]\n",
      " [   3    4    4    0 1950    0   10    4    2   23]\n",
      " [   8    4    0   22    6 1849   14    1    6    4]\n",
      " [   9    0    2    0    1    4 2078    0    4    0]\n",
      " [   1   13   15    0   15    1    0 2134    0   16]\n",
      " [   4   10    6   10    8    8    4    4 2012    6]\n",
      " [   6    2    4   12   34    4    0   17    7 2024]]\n"
     ]
    }
   ],
   "source": [
    "X_train, X_test, y_train, y_test = train_test_split(df_feat,label_y,test_size=0.5) # split the data\n",
    "\n",
    "C_values = [0.1,1,10]\n",
    "\n",
    "for c in C_values:\n",
    "    start_time = time.time()            # start time\n",
    "    model = SVC(C=c)                    # create the model\n",
    "    model.fit(X_train,y_train)          # fit the model\n",
    "    print(\"-----------------\",c,\"-----------------\")\n",
    "    print(\"---%s mins %s secs ---\" %( (time.time()-start_time)//60 , (time.time()-start_time)%60 )) # time taken to train the model\n",
    "    predictions = model.predict(X_test) # predict the test data\n",
    "    report = classification_report(y_test,predictions,output_dict=True)    # classification report\n",
    "    print(\"Accuracy: \",report['accuracy'])\n",
    "    print(\"confusion_matrix: \",confusion_matrix(y_test,predictions))\n",
    "\n",
    "    "
   ]
  },
  {
   "attachments": {},
   "cell_type": "markdown",
   "metadata": {},
   "source": [
    "Here we can see that SVM with C(Regularization or Penalty Factor) value equal to 10 gave us the best accuracy of 0.976 with time 1 min 6 sec (fastest).\n",
    "\n",
    "So out of all the 3 kernals we can see that rbf was the worst performer, polynomial kernel with degree 2 and 4 performed with a high score of 0.96 with decrease in accuracy with increase in degree. We got the highest accuracy with C=10 iin SVM."
   ]
  }
 ],
 "metadata": {
  "kernelspec": {
   "display_name": "base",
   "language": "python",
   "name": "python3"
  },
  "language_info": {
   "codemirror_mode": {
    "name": "ipython",
    "version": 3
   },
   "file_extension": ".py",
   "mimetype": "text/x-python",
   "name": "python",
   "nbconvert_exporter": "python",
   "pygments_lexer": "ipython3",
   "version": "3.9.12"
  },
  "orig_nbformat": 4,
  "vscode": {
   "interpreter": {
    "hash": "93aa56aaf092cc48edb18a400e2b8d907b19181ab850d8edad30d48dcd99f0f9"
   }
  }
 },
 "nbformat": 4,
 "nbformat_minor": 2
}
