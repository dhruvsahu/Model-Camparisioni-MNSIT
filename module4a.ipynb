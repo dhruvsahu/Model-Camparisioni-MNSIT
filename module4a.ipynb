{
 "cells": [
  {
   "attachments": {},
   "cell_type": "markdown",
   "metadata": {},
   "source": [
    "# 1. Learning Bounds Decision Trees:"
   ]
  },
  {
   "cell_type": "code",
   "execution_count": 29,
   "metadata": {},
   "outputs": [],
   "source": [
    "# import the necessary packages\n",
    "import numpy as np\n",
    "import pandas as pd\n",
    "import matplotlib.pyplot as plt\n",
    "from sklearn.model_selection import train_test_split\n",
    "from sklearn.metrics import confusion_matrix,classification_report\n",
    "from sklearn.tree import DecisionTreeClassifier"
   ]
  },
  {
   "cell_type": "code",
   "execution_count": 30,
   "metadata": {},
   "outputs": [],
   "source": [
    "df = pd.read_csv('mnist.csv')   # read the csv file \n",
    "\n",
    "df_feat = df.drop('label',axis=1) # drop the label column\n",
    "\n",
    "label_y = df['label'] # label column"
   ]
  },
  {
   "cell_type": "code",
   "execution_count": 45,
   "metadata": {},
   "outputs": [],
   "source": [
    "def compute_empirical_risk(y_true, y_pred, n_classes):\n",
    "    \"\"\"\n",
    "    Computes the empirical risk of a decision tree classifier.\n",
    "    \n",
    "    Args:\n",
    "    - y_true (numpy.ndarray): True labels of the samples (shape: (n_samples,))\n",
    "    - y_pred (numpy.ndarray): Predicted labels of the samples (shape: (n_samples,))\n",
    "    - n_classes (int): Number of classes in the classification problem\n",
    "    \n",
    "    Returns:\n",
    "    - empirical_risk (float): Empirical risk of the decision tree classifier\n",
    "    \"\"\"\n",
    "    n_samples = len(y_true)\n",
    "    class_counts = np.zeros(n_classes)\n",
    "    for c in range(n_classes):\n",
    "        class_counts[c] = np.sum(y_true == c)\n",
    "    class_probs = class_counts / n_samples\n",
    "    error = 0\n",
    "    for c in range(n_classes):\n",
    "        mask = (y_true == c)\n",
    "        error += np.sum(mask * (y_pred != c)) / np.sum(mask)\n",
    "    empirical_risk = np.sum(error * class_probs)\n",
    "    return empirical_risk"
   ]
  },
  {
   "cell_type": "code",
   "execution_count": 51,
   "metadata": {},
   "outputs": [
    {
     "name": "stdout",
     "output_type": "stream",
     "text": [
      "Train Size:  0.9\n",
      "Empirical Risk:  1.4870688747172036\n"
     ]
    }
   ],
   "source": [
    "print(\"Train Size: \",0.90)\n",
    "X_train,X_test,Y_train,Y_test = train_test_split(df_feat,label_y,test_size=0.1,random_state=72)       # split the data into train and test\n",
    "\n",
    "clf = DecisionTreeClassifier()      # create the decision tree classifier\n",
    "\n",
    "path = clf.cost_complexity_pruning_path(X_train,Y_train)    # find the ccp_alphas and impurities\n",
    "\n",
    "ccp_alphas, impurities = path.ccp_alphas, path.impurities   # store the ccp_alphas and impurities\n",
    "\n",
    "clf = DecisionTreeClassifier(ccp_alpha=3e-07)    # create the decision tree classifier with ccp_alpha\n",
    "clf.fit(X_train,Y_train)\n",
    "\n",
    "y_true = Y_test.values; # true labels\n",
    "y_pred = clf.predict(X_test) # predicted labels\n",
    "n_classes = 10; # number of classes\n",
    "\n",
    "print(\"Empirical Risk: \",compute_empirical_risk(y_true, y_pred, n_classes))"
   ]
  },
  {
   "cell_type": "code",
   "execution_count": 52,
   "metadata": {},
   "outputs": [
    {
     "name": "stdout",
     "output_type": "stream",
     "text": [
      "Number of nodes in the decision tree: 5599\n",
      "Number of samples used to train the decision tree: 37800\n",
      "Delta value: 0.1\n",
      "Number of features used to train the decision tree: 784\n"
     ]
    }
   ],
   "source": [
    "n_nodes = clf.tree_.node_count\n",
    "print(\"Number of nodes in the decision tree:\", n_nodes)\n",
    "\n",
    "n_samples = X_train.shape[0]\n",
    "print(\"Number of samples used to train the decision tree:\", n_samples)\n",
    "print(\"Delta value:\",0.1)\n",
    "\n",
    "n_features = X_train.shape[1]\n",
    "print(\"Number of features used to train the decision tree:\", n_features)"
   ]
  },
  {
   "cell_type": "code",
   "execution_count": 53,
   "metadata": {},
   "outputs": [
    {
     "name": "stdout",
     "output_type": "stream",
     "text": [
      "Upper bound on the generalization error: 2.189907731998429\n"
     ]
    }
   ],
   "source": [
    "upper_bound = compute_empirical_risk(y_true, y_pred, n_classes) + np.sqrt( ( (n_nodes+1)*np.log(n_features+3) + np.log(2/0.1) )  / (2*n_samples)) # upper bound\n",
    "\n",
    "print(\"Upper bound on the generalization error:\", upper_bound)"
   ]
  },
  {
   "cell_type": "code",
   "execution_count": 54,
   "metadata": {},
   "outputs": [
    {
     "name": "stdout",
     "output_type": "stream",
     "text": [
      "Prob of Error:\n",
      "0.14714285714285713\n"
     ]
    }
   ],
   "source": [
    "# probability of misclassification\n",
    "print(\"Prob of Error:\")\n",
    "print(1 - classification_report(y_true, y_pred, output_dict=True)['accuracy'])"
   ]
  },
  {
   "cell_type": "markdown",
   "metadata": {},
   "source": [
    "# Learning Bound SVM:"
   ]
  },
  {
   "cell_type": "code",
   "execution_count": 40,
   "metadata": {},
   "outputs": [],
   "source": [
    "from sklearn.svm import SVC"
   ]
  },
  {
   "cell_type": "code",
   "execution_count": 41,
   "metadata": {},
   "outputs": [
    {
     "name": "stdout",
     "output_type": "stream",
     "text": [
      "Number of samples used to train the SVM: 21000\n",
      "Number of features used to train the SVM: 784\n",
      "Empirical Risk: 0.24698316718896793\n",
      "delta value: 0.1\n",
      "Upper bound on the generalization error: 0.28265018306365824\n",
      "Prob of Error:\n",
      "0.02461904761904765\n"
     ]
    }
   ],
   "source": [
    "X_train, X_test, y_train, y_test = train_test_split(df_feat,label_y,test_size=0.5) # split the data\n",
    "\n",
    "model = SVC(C=10)                    # create the model\n",
    "model.fit(X_train,y_train)           # fit the model\n",
    "\n",
    "y_pred = model.predict(X_test)       # predict the labels\n",
    "y_true = y_test.values             # true labels\n",
    "n_classes = 10\n",
    "\n",
    "n_samples = X_train.shape[0]\n",
    "n_features = X_train.shape[1]\n",
    "\n",
    "print(\"Number of samples used to train the SVM:\", n_samples)\n",
    "print(\"Number of features used to train the SVM:\", n_features)\n",
    "print(\"Empirical Risk:\",compute_empirical_risk(y_true, y_pred, n_classes))\n",
    "print(\"Delta value:\",0.1)\n",
    "\n",
    "upper_bound = compute_empirical_risk(y_true, y_pred, n_classes) + np.sqrt( (2*np.log(n_features+1))/n_samples ) + np.sqrt( np.log(1/0.1)/n_samples ) # upper bound\n",
    "print(\"Upper bound on the generalization error:\", upper_bound)\n",
    "\n",
    "# probability of misclassification\n",
    "print(\"Prob of Error:\")\n",
    "print(1 - classification_report(y_true, y_pred, output_dict=True)['accuracy'])"
   ]
  },
  {
   "cell_type": "markdown",
   "metadata": {},
   "source": [
    "# 2.Mean Estimator MLE"
   ]
  },
  {
   "cell_type": "code",
   "execution_count": 22,
   "metadata": {},
   "outputs": [
    {
     "name": "stdout",
     "output_type": "stream",
     "text": [
      "Variance of the first feature: 1.0242647094382833\n",
      "Variance of the second feature: 0.6814636803366799\n",
      "Mean:  1.0002088782227145 2.9953452508881515\n"
     ]
    }
   ],
   "source": [
    "df = pd.read_csv('DataSet_4.csv')   # read the csv file \n",
    "\n",
    "var1 = df.iloc[:,0].var()\n",
    "var2 = df.iloc[:,1].var()\n",
    "\n",
    "mean_1 = df.iloc[:,0].mean()\n",
    "mean_2 = df.iloc[:,1].mean()\n",
    "\n",
    "print(\"Variance of the first feature:\",var1)\n",
    "print(\"Variance of the second feature:\",var2)\n",
    "\n",
    "print(\"Mean: \",mean_1 ,mean_2)"
   ]
  },
  {
   "cell_type": "code",
   "execution_count": 17,
   "metadata": {},
   "outputs": [
    {
     "name": "stdout",
     "output_type": "stream",
     "text": [
      "Covariance Matrix:\n",
      " [[1.02426471 0.        ]\n",
      " [0.         0.68146368]]\n"
     ]
    }
   ],
   "source": [
    "cov_matrix = np.array([[var1,0],[0,var2]]) # create the covariance matrix\n",
    "\n",
    "print(\"Covariance Matrix:\\n\",cov_matrix)"
   ]
  },
  {
   "cell_type": "code",
   "execution_count": 24,
   "metadata": {},
   "outputs": [
    {
     "name": "stdout",
     "output_type": "stream",
     "text": [
      "MLE of the mean: [1.00020888 2.99534525]\n"
     ]
    }
   ],
   "source": [
    "import numpy as np\n",
    "from scipy.optimize import minimize\n",
    "\n",
    "# Generate some random data with two features\n",
    "data = df\n",
    "\n",
    "# Define the log-likelihood function for a multivariate Gaussian distribution\n",
    "def log_likelihood(params, data):\n",
    "    mean = [mean_1, mean_2]\n",
    "    cov = cov_matrix\n",
    "    log_prob = -0.5 * np.log(np.linalg.det(cov)) - 0.5 * np.sum(np.dot((data - mean), np.linalg.inv(cov)) * (data - mean), axis=1) - 0.5 * data.shape[1] * np.log(2 * np.pi)\n",
    "    return -np.sum(log_prob)\n",
    "\n",
    "# Use the minimize function from the scipy library to find the MLE of the mean\n",
    "params_initial = np.concatenate((np.mean(data, axis=0), np.cov(data, rowvar=False).flatten()))\n",
    "result = minimize(lambda params: log_likelihood(params, data), params_initial, method='L-BFGS-B')\n",
    "mean_mle = result.x[:2]\n",
    "\n",
    "# Print the MLE of the mean\n",
    "print(\"MLE of the mean:\", mean_mle)\n"
   ]
  },
  {
   "attachments": {},
   "cell_type": "markdown",
   "metadata": {},
   "source": [
    "# 3. Regression Functions "
   ]
  },
  {
   "cell_type": "code",
   "execution_count": 25,
   "metadata": {},
   "outputs": [],
   "source": [
    "# importing classifiers\n",
    "from sklearn.neighbors import KNeighborsRegressor\n",
    "from sklearn.ensemble import RandomForestRegressor"
   ]
  },
  {
   "cell_type": "code",
   "execution_count": 26,
   "metadata": {},
   "outputs": [],
   "source": [
    "# Generate the dataset\n",
    "np.random.seed(0)\n",
    "N = 100\n",
    "X = np.sort(np.random.uniform(0, 3, N))\n",
    "y = 2*np.sin(X) + np.random.normal(0, np.sqrt(0.25), N)"
   ]
  },
  {
   "cell_type": "code",
   "execution_count": 27,
   "metadata": {},
   "outputs": [
    {
     "data": {
      "image/png": "[encoded data removed]",
      "text/plain": [
       "<Figure size 432x288 with 1 Axes>"
      ]
     },
     "metadata": {
      "needs_background": "light"
     },
     "output_type": "display_data"
    }
   ],
   "source": [
    "x_test = np.array([0, 0.35, 0.70, 1.05, 1.40, 1.75, 2.10, 2.45, 2.80, 3.14]).reshape(-1, 1)\n",
    "\n",
    "# Fit the KNN regression model\n",
    "knn = KNeighborsRegressor(n_neighbors=5)\n",
    "knn.fit(X.reshape(-1, 1), y)\n",
    "y_knn = knn.predict(x_test)\n",
    "\n",
    "# Fit the random forest regression model\n",
    "rf = RandomForestRegressor(n_estimators=100)\n",
    "rf.fit(X.reshape(-1, 1), y)\n",
    "y_rf = rf.predict(x_test)\n",
    "\n",
    "# Plot the estimated regression function values\n",
    "plt.plot(X, y, '.', label='data')\n",
    "plt.plot(x_test, y_knn, '-', label='KNN')\n",
    "plt.plot(x_test, y_rf, '-', label='Random Forest')\n",
    "plt.legend()\n",
    "plt.show()"
   ]
  }
 ],
 "metadata": {
  "kernelspec": {
   "display_name": "base",
   "language": "python",
   "name": "python3"
  },
  "language_info": {
   "codemirror_mode": {
    "name": "ipython",
    "version": 3
   },
   "file_extension": ".py",
   "mimetype": "text/x-python",
   "name": "python",
   "nbconvert_exporter": "python",
   "pygments_lexer": "ipython3",
   "version": "3.9.12"
  },
  "orig_nbformat": 4
 },
 "nbformat": 4,
 "nbformat_minor": 2
}
